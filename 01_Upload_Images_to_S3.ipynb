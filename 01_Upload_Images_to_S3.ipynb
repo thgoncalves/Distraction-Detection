{
 "cells": [
  {
   "cell_type": "code",
   "execution_count": null,
   "metadata": {},
   "outputs": [
    {
     "name": "stdout",
     "output_type": "stream",
     "text": [
      "Reading folder: c7\n",
      "Reading file: data/imgs/train/c7/img_36302.jpg                                   \n",
      "Total records on c7: 2002\n",
      "Reading folder: c0\n",
      "Reading file: data/imgs/train/c0/img_87085.jpg                                   \n",
      "Total records on c0: 2489\n",
      "Reading folder: c9\n",
      "Reading file: data/imgs/train/c9/img_37020.jpg                                   \n",
      "Total records on c9: 2129\n",
      "Reading folder: c8\n",
      "Reading file: data/imgs/train/c8/img_85692.jpg                                   \n",
      "Total records on c8: 1911\n",
      "Reading folder: c1\n",
      "Reading file: data/imgs/train/c1/img_58381.jpg                                   \n",
      "Total records on c1: 2267\n",
      "Reading folder: c6\n",
      "Reading file: data/imgs/train/c6/img_64478.jpg                                   \n",
      "Total records on c6: 2325\n",
      "Reading folder: c3\n",
      "Reading file: data/imgs/train/c3/img_59921.jpg                                   \n",
      "Total records on c3: 2346\n",
      "Reading folder: c4\n",
      "Reading file: data/imgs/train/c4/img_92488.jpg                                   \n",
      "Total records on c4: 2326\n",
      "Reading folder: c5\n",
      "Reading file: data/imgs/train/c5/img_31451.jpg                                   \n",
      "Total records on c5: 2312\n",
      "Reading folder: c2\n",
      "Reading file: data/imgs/train/c2/img_57855.jpg                                   \r"
     ]
    }
   ],
   "source": [
    "import boto3\n",
    "import os\n",
    "\n",
    "localpath = 'data/imgs/'\n",
    "s3 = boto3.resource('s3')\n",
    "bucket = 'thiago-ad-bucket'\n",
    "\n",
    "for r, d, f in os.walk(localpath):  \n",
    "    i = 0\n",
    "    if r[:14] != 'data/imgs/test' and r[:14] != 'data/imgs/':\n",
    "        if r[-2:-1] == 'c': \n",
    "            print(f'Reading folder: {r[-2:]}')\n",
    "            for file in f:\n",
    "                if file != '.DS_Store':\n",
    "                    s3file = f'{r}/{file}'\n",
    "                    localfile = f'{r}/{file}'\n",
    "                    s3.meta.client.upload_file(localfile,bucket,s3file)\n",
    "                    i += 1\n",
    "                    print(f'Reading file: {s3file}                                  ', end='\\r')\n",
    "            print('')\n",
    "            print(f'Total records on {r[-2:]}: {i}')"
   ]
  },
  {
   "cell_type": "code",
   "execution_count": null,
   "metadata": {},
   "outputs": [],
   "source": []
  }
 ],
 "metadata": {
  "kernelspec": {
   "display_name": "Python 3",
   "language": "python",
   "name": "python3"
  },
  "language_info": {
   "codemirror_mode": {
    "name": "ipython",
    "version": 3
   },
   "file_extension": ".py",
   "mimetype": "text/x-python",
   "name": "python",
   "nbconvert_exporter": "python",
   "pygments_lexer": "ipython3",
   "version": "3.7.4"
  }
 },
 "nbformat": 4,
 "nbformat_minor": 4
}
